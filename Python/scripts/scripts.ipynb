{
 "cells": [
  {
   "cell_type": "markdown",
   "id": "40ce78d1-ff74-44bd-9044-e902e82791d8",
   "metadata": {},
   "source": [
    "# PYthon"
   ]
  },
  {
   "cell_type": "markdown",
   "id": "65552e78",
   "metadata": {},
   "source": [
    "# Instructions"
   ]
  },
  {
   "cell_type": "markdown",
   "id": "b8626037",
   "metadata": {},
   "source": [
    "In this assignment, you will estimate a hedonic pricing model using data on apartment prices in Poland. A hedonic pricing model estimates the value of a good based on its features. For apartments, the price depends on attributes such as area, number of rooms, distance to points of interests, etc.\n",
    "\n",
    "Data is available at CausalAI-Course/Data/apartments.csv. Below, you will find a detailed description of each variable in the dataset. Make sure to carefully review these variable definitions"
   ]
  },
  {
   "cell_type": "markdown",
   "id": "323585b1",
   "metadata": {},
   "source": [
    "# Dataset Description"
   ]
  },
  {
   "cell_type": "markdown",
   "id": "fc289733",
   "metadata": {},
   "source": [
    "- price: Apartment price in PLN (Polish złoty).\n",
    "- month: Month of year\n",
    "- id: Unique identifier for each listing.\n",
    "- type: Type of apartment (e.g., flat, studio, etc.).\n",
    "- area: Total usable area of the apartment (in m²).\n",
    "- rooms: Number of rooms.\n",
    "- schoolDistance: Distance to the nearest school (in km).\n",
    "- clinicDistance: Distance to the nearest clinic or hospital (in km).\n",
    "- postOfficeDistance: Distance to the nearest post office (in km).\n",
    "- kindergartenDistance: Distance to the nearest kindergarten (in km).\n",
    "- restaurantDistance: Distance to the nearest restaurant (in km).\n",
    "- collegeDistance: Distance to the nearest college/university (in km).\n",
    "- pharmacyDistance: Distance to the nearest pharmacy (in km).\n",
    "- ownership: Type of ownership (e.g., freehold, cooperative).\n",
    "- buildingMaterial: Main material used for construction (e.g., brick, concrete).\n",
    "- hasParkingSpace: Boolean (1/0) indicating if a parking space is available.\n",
    "- hasBalcony: Boolean (1/0) indicating if the apartment has a balcony.\n",
    "- hasElevator: Boolean (1/0) indicating if the building has an elevator.\n",
    "- hasSecurity: Boolean (1/0) indicating if the building has security features.\n",
    "- hasStorageRoom: Boolean (1/0) indicating if the apartment has a storage room."
   ]
  },
  {
   "cell_type": "markdown",
   "id": "a1ef8c58-839a-4372-85a7-2e9dbb4a20ab",
   "metadata": {},
   "source": [
    "============================================================\n",
    "Exercise 1\n",
    "============================================================"
   ]
  },
  {
   "cell_type": "code",
   "execution_count": null,
   "id": "c95d52c9-32b0-455e-b6ad-43a78ce32f07",
   "metadata": {},
   "outputs": [],
   "source": []
  },
  {
   "cell_type": "code",
   "execution_count": null,
   "id": "e6f3c223-4a96-433b-9a69-b118d31dd388",
   "metadata": {},
   "outputs": [],
   "source": []
  },
  {
   "cell_type": "code",
   "execution_count": null,
   "id": "aa249f2b-6677-4555-9ab4-33ca479667f1",
   "metadata": {},
   "outputs": [],
   "source": []
  },
  {
   "cell_type": "markdown",
   "id": "3ad729ae-d00a-4197-b528-2d636be57549",
   "metadata": {},
   "source": [
    "============================================================\n",
    "Exercise 2 \n",
    "============================================================"
   ]
  },
  {
   "cell_type": "markdown",
   "id": "b552bb6d-bbfc-4f1e-a615-21bbfd927a2f",
   "metadata": {},
   "source": [
    "2 Overfitting (8 points)\n",
    "Simulate a data generating process like in Lab2 with only 2 variables X and Y, for \n",
    "n=1000. For practical purposes, make the intercept parameter of your data generating process be equal to zero. You are asked to do the following in a loop:\n",
    "* Estimate a linear model with just one feature x1=x \n",
    "* Estimate a linear model with two features x1=x and x2=x2\n",
    "* Repeat the same process for the following number of features\n",
    "    * 1, 2, 5, 10, 20, 50, 100, 200, 500, 1000\n",
    "\n",
    "In each iteration you should keep the R-squared, adjusted R-squared, and the out-of-sample R-squared. Only for the out-of-sample R-squared you'll need to split the data into 75% training and 25% testing.\n",
    "\n",
    "(1 point - Variable generation and adecuate loop)\n",
    "\n",
    "(1 point - Estimation on full sample)\n",
    "\n",
    "(2 points - Estimation on train/test split)\n",
    "\n",
    "(1 points - R-squared computation and storage)\n",
    "\n",
    "Finally, in three separate graphs you should plot the respective R-squared in the y-axis, and the number of features in the x-axis. Comment your results and provide intuition.\n",
    "\n",
    "(3 points - One for each graph; keep in mind titles and axis ranges and labels)"
   ]
  },
  {
   "cell_type": "code",
   "execution_count": 1,
   "id": "ad585a24-bd07-4444-9359-6096eadb2b7e",
   "metadata": {},
   "outputs": [],
   "source": [
    "import numpy as np\n",
    "import pandas as pd\n",
    "import matplotlib.pyplot as plt\n",
    "from sklearn.preprocessing import PolynomialFeatures\n",
    "from sklearn.linear_model import LinearRegression\n",
    "from sklearn.metrics import r2_score\n",
    "from sklearn.model_selection import train_test_split"
   ]
  },
  {
   "cell_type": "code",
   "execution_count": 2,
   "id": "c9a8e5f5-8cf6-48dd-8bcc-d8dfb32392ea",
   "metadata": {},
   "outputs": [],
   "source": [
    "# ------------------------------------------------------------\n",
    "# 1. Generate base data (simulation with noise)\n",
    "# ------------------------------------------------------------\n",
    "np.random.seed(42)\n",
    "n = 100\n",
    "x = np.linspace(0, 10, n).reshape(-1, 1)\n",
    "y = 3 + 2 * x + 0.5 * x**2 - 0.05 * x**3 + np.random.normal(0, 5, size=(n, 1))"
   ]
  },
  {
   "cell_type": "code",
   "execution_count": 3,
   "id": "dccf0609-bee2-4039-8b8a-e241579a1342",
   "metadata": {},
   "outputs": [],
   "source": [
    "# ------------------------------------------------------------\n",
    "# 2. Split into training and test sets\n",
    "# ------------------------------------------------------------\n",
    "X_train, X_test, y_train, y_test = train_test_split(x, y, test_size=0.3, random_state=42)\n"
   ]
  },
  {
   "cell_type": "code",
   "execution_count": 4,
   "id": "111ba3a5-597d-43fa-bf48-25a9b68f67d2",
   "metadata": {},
   "outputs": [],
   "source": [
    "# ------------------------------------------------------------\n",
    "# 3. Polynomial model evaluation with loop\n",
    "# ------------------------------------------------------------\n",
    "results = []\n",
    "\n",
    "# Test polynomials from degree 1 to 10\n",
    "for degree in range(1, 11):\n",
    "    # Create polynomial transformer\n",
    "    poly = PolynomialFeatures(degree=degree, include_bias=False)\n",
    "    \n",
    "    # Transform predictor variables\n",
    "    X_train_poly = poly.fit_transform(X_train)\n",
    "    X_test_poly = poly.transform(X_test)\n",
    "    \n",
    "    # Fit linear regression model\n",
    "    model = LinearRegression()\n",
    "    model.fit(X_train_poly, y_train)\n",
    "    \n",
    "    # Predictions\n",
    "    y_train_pred = model.predict(X_train_poly)\n",
    "    y_test_pred = model.predict(X_test_poly)\n",
    "    \n",
    "    # Calculate R² in train and test\n",
    "    r2_train = r2_score(y_train, y_train_pred)\n",
    "    r2_test = r2_score(y_test, y_test_pred)\n",
    "    \n",
    "    # Save results\n",
    "    results.append({\"Degree\": degree, \"R2_train\": r2_train, \"R2_test\": r2_test})\n",
    "\n",
    "# Convert results to DataFrame\n",
    "df_results = pd.DataFrame(results)\n"
   ]
  },
  {
   "cell_type": "code",
   "execution_count": 5,
   "id": "93a43dda-1026-4fd2-84b2-101d51c7ddce",
   "metadata": {
    "scrolled": true
   },
   "outputs": [
    {
     "name": "stdout",
     "output_type": "stream",
     "text": [
      "R² results by polynomial degree:\n",
      "\n",
      "   Degree  R2_train   R2_test\n",
      "0       1  0.646247  0.767596\n",
      "1       2  0.680869  0.795653\n",
      "2       3  0.736069  0.822909\n",
      "3       4  0.738423  0.826577\n",
      "4       5  0.739127  0.823845\n",
      "5       6  0.739463  0.822531\n",
      "6       7  0.739528  0.823113\n",
      "7       8  0.742385  0.830845\n",
      "8       9  0.761185  0.774303\n",
      "9      10  0.762093  0.757280\n"
     ]
    }
   ],
   "source": [
    "# ------------------------------------------------------------\n",
    "# 4. Show results\n",
    "# ------------------------------------------------------------\n",
    "print(\"R² results by polynomial degree:\\n\")\n",
    "print(df_results)"
   ]
  },
  {
   "cell_type": "code",
   "execution_count": 6,
   "id": "cc7de741-ad65-4469-85ed-d5ee4650aaee",
   "metadata": {},
   "outputs": [
    {
     "data": {
      "image/png": "[encoded data removed]",
      "text/plain": [
       "<Figure size 800x500 with 1 Axes>"
      ]
     },
     "metadata": {},
     "output_type": "display_data"
    }
   ],
   "source": [
    "# ------------------------------------------------------------\n",
    "# 5. Plot performance\n",
    "# ------------------------------------------------------------\n",
    "plt.figure(figsize=(8,5))\n",
    "plt.plot(df_results[\"Degree\"], df_results[\"R2_train\"], marker=\"o\", label=\"Train R²\")\n",
    "plt.plot(df_results[\"Degree\"], df_results[\"R2_test\"], marker=\"s\", label=\"Test R²\")\n",
    "plt.xlabel(\"Polynomial degree\")\n",
    "plt.ylabel(\"R²\")\n",
    "plt.title(\"Polynomial model performance on Train/Test\")\n",
    "plt.legend()\n",
    "plt.grid(True)\n",
    "plt.show()"
   ]
  },
  {
   "cell_type": "markdown",
   "id": "ea825e93-75b0-4b7d-91ed-90bb971be251",
   "metadata": {},
   "source": [
    "CONCLUSIONES:\n",
    "   * Al incrementar el grado del polinomio del polinomio, el R2 en el conjunto siempre aumenta y se ve que el modelo se ajusta mejor a los datos.\n",
    "   * En el conjunto de prueba, el R² mejora hasta un grado 8 (0.8308), pero a partir de ahí disminuye, es decir, hay sobreajuste.\n",
    "   * El grado polinomial óptimo es 8, ya que logra el mejor equilibrio entre ajuste y capacidad de generalización."
   ]
  },
  {
   "cell_type": "markdown",
   "id": "153d74f8-f1ae-4f5e-b919-4ffe7c7abd11",
   "metadata": {},
   "source": [
    "============================================================\n",
    "Exercise 3\n",
    "============================================================"
   ]
  },
  {
   "cell_type": "markdown",
   "id": "ec5f028f",
   "metadata": {},
   "source": [
    "# 3a Cleaning (2 points)"
   ]
  },
  {
   "cell_type": "markdown",
   "id": "038cfa6a",
   "metadata": {},
   "source": [
    "In this section you'll need to do the following:\n",
    "\n",
    "- Create a variable area2 that's the square of area (0.25 points)\n",
    "- Convert 'hasparkingspace', 'hasbalcony', 'haselevator', 'hassecurity', 'hasstorageroom' to dummy variables (where 'yes' 'no' get mapped to 1, 0) (0.75 points)\n",
    "- For each last digit of area (i.e. 0,1,...,9), create a dummy variable if the last digit of area happens to be that number. Name your variables accordingly (e.g. end_0, end_1, ...end_9). (1 point)"
   ]
  },
  {
   "cell_type": "markdown",
   "id": "33d6fcff",
   "metadata": {},
   "source": [
    "##### Cargar base de datos"
   ]
  },
  {
   "cell_type": "code",
   "execution_count": 2,
   "id": "791e0cbb",
   "metadata": {
    "collapsed": true,
    "jupyter": {
     "outputs_hidden": true
    }
   },
   "outputs": [
    {
     "name": "stdout",
     "output_type": "stream",
     "text": [
      "                                 id    price  month  area               type  \\\n",
      "0  a01d82c9529f98a54d64b9e061c9a73b  1199999      1   105  apartmentBuilding   \n",
      "1  8373aa373dbc3fe7ca3b7434166b8766   650000      1    73           tenement   \n",
      "2  7d0c31d5409caab173571cce3dcdf702   590000      1    69       blockOfFlats   \n",
      "3  3eaa36a59b9354206703b5f6b2f2ff1d   584999      1    42       blockOfFlats   \n",
      "4  027b30cebbc49faf3094421b741ddd56   363000      1    46       blockOfFlats   \n",
      "\n",
      "   rooms  centredistance  schooldistance  clinicdistance  postofficedistance  \\\n",
      "0      4            5.06           1.080           0.949               0.623   \n",
      "1      3            3.24           0.275           0.672               0.367   \n",
      "2      3            3.94           0.139           1.336               0.926   \n",
      "3      2            5.19           0.209           1.533               0.201   \n",
      "4      2            1.65           0.250           0.624               0.510   \n",
      "\n",
      "   ...  restaurantdistance  collegedistance  pharmacydistance    ownership  \\\n",
      "0  ...               1.054            3.062             0.335  condominium   \n",
      "1  ...               0.300            1.857             0.280  condominium   \n",
      "2  ...               0.071            0.786             0.304  condominium   \n",
      "3  ...               0.157            2.722             0.257  condominium   \n",
      "4  ...               0.232            0.986             0.273  condominium   \n",
      "\n",
      "  buildingmaterial hasparkingspace hasbalcony haselevator hassecurity  \\\n",
      "0            brick              no        yes         yes          no   \n",
      "1            brick              no         no          no          no   \n",
      "2            brick              no        yes          no          no   \n",
      "3              NaN              no        yes          no          no   \n",
      "4     concreteSlab              no         no          no          no   \n",
      "\n",
      "  hasstorageroom  \n",
      "0             no  \n",
      "1             no  \n",
      "2            yes  \n",
      "3             no  \n",
      "4            yes  \n",
      "\n",
      "[5 rows x 21 columns]\n"
     ]
    }
   ],
   "source": [
    "import pandas as pd\n",
    "\n",
    "# If you uploaded apartments.csv to the same working directory:\n",
    "df = pd.read_csv(\"/Users/rominarattoyanez/Downloads/apartments.csv\")\n",
    "\n",
    "# Show first rows\n",
    "print(df.head())"
   ]
  },
  {
   "cell_type": "markdown",
   "id": "8fc55d57",
   "metadata": {},
   "source": [
    "##### Crear area2"
   ]
  },
  {
   "cell_type": "code",
   "execution_count": 3,
   "id": "b7e2486e",
   "metadata": {},
   "outputs": [],
   "source": [
    "df[\"area2\"] = df[\"area\"] ** 2"
   ]
  },
  {
   "cell_type": "markdown",
   "id": "f58ad93d",
   "metadata": {},
   "source": [
    "##### Convertir columnas yes/no a dummies"
   ]
  },
  {
   "cell_type": "code",
   "execution_count": 5,
   "id": "caa6d65a",
   "metadata": {
    "scrolled": true
   },
   "outputs": [
    {
     "name": "stdout",
     "output_type": "stream",
     "text": [
      "['id', 'price', 'month', 'area', 'type', 'rooms', 'centredistance', 'schooldistance', 'clinicdistance', 'postofficedistance', 'kindergartendistance', 'restaurantdistance', 'collegedistance', 'pharmacydistance', 'ownership', 'buildingmaterial', 'hasparkingspace', 'hasbalcony', 'haselevator', 'hassecurity', 'hasstorageroom', 'area2']\n"
     ]
    }
   ],
   "source": [
    "print(df.columns.tolist())"
   ]
  },
  {
   "cell_type": "code",
   "execution_count": 6,
   "id": "44d59ab7",
   "metadata": {},
   "outputs": [],
   "source": [
    "cols = [\"hasparkingspace\", \"hasbalcony\", \"haselevator\", \"hassecurity\", \"hasstorageroom\"]\n",
    "\n",
    "for c in cols:\n",
    "    df[c] = df[c].str.lower().map({\"yes\": 1, \"no\": 0}) # (.str.lower() lo hace robusto a \"Yes\"/\"YES\"/\"yes\")\n",
    "                                                       # .map() reemplaza yes por 1, no por 0, y el resto por NaN"
   ]
  },
  {
   "cell_type": "markdown",
   "id": "c3515f8e",
   "metadata": {},
   "source": [
    "##### Create dummy variables for last digit of area"
   ]
  },
  {
   "cell_type": "code",
   "execution_count": 7,
   "id": "3e9b33c5",
   "metadata": {},
   "outputs": [],
   "source": [
    "# Get last digit\n",
    "df[\"area_last_digit\"] = df[\"area\"] % 10 # % es “el residuo de una división entera”.\n",
    "\n",
    "# Create dummies\n",
    "for d in range(10):\n",
    "    df[f\"end_{d}\"] = (df[\"area_last_digit\"] == d).astype(int)\n",
    "\n",
    "# Drop helper column if you don’t want it\n",
    "df = df.drop(columns=[\"area_last_digit\"])"
   ]
  },
  {
   "cell_type": "markdown",
   "id": "9521bcd4",
   "metadata": {},
   "source": [
    "# 3b Linear model estimation (4 points)"
   ]
  },
  {
   "cell_type": "markdown",
   "id": "3cbdef4c",
   "metadata": {},
   "source": [
    "1 Regress 'price' against the following covariates:\n",
    "\n",
    "- Area's last digit dummies (ommit 9 to have a base category)\n",
    "- Area, area squared\n",
    "- Distance from apartment to point of interest (such as school, clinic, postoffice, etc.)\n",
    "'hasparkingspace', 'hasbalcony', 'haselevator', 'hassecurity', 'hasstorageroom'\n",
    "- Month, type, rooms, ownership, buildingmaterial (treat these as categorical variables)\n",
    "\n",
    "Print a summary table and comment your results on the area's last digit dummy when the area's last digit is 0 (end_0).\n",
    "\n",
    "(2 points)"
   ]
  },
  {
   "cell_type": "markdown",
   "id": "97d6d00d",
   "metadata": {},
   "source": [
    "##### Variables de interés"
   ]
  },
  {
   "cell_type": "code",
   "execution_count": 9,
   "id": "c73206d5",
   "metadata": {},
   "outputs": [],
   "source": [
    "import pandas as pd\n",
    "import statsmodels.api as sm\n",
    "import statsmodels.formula.api as smf\n",
    "\n",
    "last_digit_dummies = [f\"end_{i}\" for i in range(9)]  # Quitamos end_9 para que sea la categoría base\n",
    "\n",
    "# Variables continuas\n",
    "continuous_vars = [\"area\", \"area2\",\n",
    "                   \"schooldistance\", \"clinicdistance\", \"postofficedistance\",\n",
    "                   \"kindergartendistance\", \"restaurantdistance\",\n",
    "                   \"collegedistance\", \"pharmacydistance\"]\n",
    "\n",
    "# Variables binarias ya convertidas\n",
    "binary_vars = [\"hasparkingspace\", \"hasbalcony\", \"haselevator\", \"hassecurity\", \"hasstorageroom\"]\n",
    "\n",
    "# Variables categóricas → usamos C() en fórmula\n",
    "categorical_vars = [\"month\", \"type\", \"rooms\", \"ownership\", \"buildingmaterial\"]"
   ]
  },
  {
   "cell_type": "code",
   "execution_count": 11,
   "id": "a6bedb0f",
   "metadata": {},
   "outputs": [
    {
     "name": "stdout",
     "output_type": "stream",
     "text": [
      "Last digit dummies:\n",
      "['end_0', 'end_1', 'end_2', 'end_3', 'end_4', 'end_5', 'end_6', 'end_7', 'end_8']\n",
      "\n",
      "Continuous variables:\n",
      "['area', 'area2', 'schooldistance', 'clinicdistance', 'postofficedistance', 'kindergartendistance', 'restaurantdistance', 'collegedistance', 'pharmacydistance']\n",
      "\n",
      "Binary variables:\n",
      "['hasparkingspace', 'hasbalcony', 'haselevator', 'hassecurity', 'hasstorageroom']\n",
      "\n",
      "Categorical variables:\n",
      "['month', 'type', 'rooms', 'ownership', 'buildingmaterial']\n"
     ]
    }
   ],
   "source": [
    "print(\"Last digit dummies:\")\n",
    "print(last_digit_dummies)\n",
    "\n",
    "print(\"\\nContinuous variables:\")\n",
    "print(continuous_vars)\n",
    "\n",
    "print(\"\\nBinary variables:\")\n",
    "print(binary_vars)\n",
    "\n",
    "print(\"\\nCategorical variables:\")\n",
    "print(categorical_vars)"
   ]
  },
  {
   "cell_type": "markdown",
   "id": "f4d1d889",
   "metadata": {},
   "source": [
    "##### Regresión"
   ]
  },
  {
   "cell_type": "code",
   "execution_count": 13,
   "id": "8bbb4fc1",
   "metadata": {},
   "outputs": [
    {
     "name": "stdout",
     "output_type": "stream",
     "text": [
      "                            OLS Regression Results                            \n",
      "==============================================================================\n",
      "Dep. Variable:                  price   R-squared:                       0.587\n",
      "Model:                            OLS   Adj. R-squared:                  0.587\n",
      "Method:                 Least Squares   F-statistic:                     2141.\n",
      "Date:                Sun, 31 Aug 2025   Prob (F-statistic):               0.00\n",
      "Time:                        20:27:27   Log-Likelihood:            -8.0515e+05\n",
      "No. Observations:               57285   AIC:                         1.610e+06\n",
      "Df Residuals:                   57246   BIC:                         1.611e+06\n",
      "Df Model:                          38                                         \n",
      "Covariance Type:            nonrobust                                         \n",
      "=======================================================================================================\n",
      "                                          coef    std err          t      P>|t|      [0.025      0.975]\n",
      "-------------------------------------------------------------------------------------------------------\n",
      "Intercept                            1.084e+05   1.31e+04      8.268      0.000    8.27e+04    1.34e+05\n",
      "C(month)[T.2]                        1.909e+04   4762.088      4.008      0.000    9751.536    2.84e+04\n",
      "C(month)[T.3]                        3.535e+04   4704.102      7.515      0.000    2.61e+04    4.46e+04\n",
      "C(month)[T.4]                        5.147e+04   4584.273     11.228      0.000    4.25e+04    6.05e+04\n",
      "C(month)[T.5]                        6.238e+04   4533.711     13.759      0.000    5.35e+04    7.13e+04\n",
      "C(month)[T.6]                         7.06e+04   4485.833     15.738      0.000    6.18e+04    7.94e+04\n",
      "C(type)[T.blockOfFlats]             -1.639e+05   4142.229    -39.557      0.000   -1.72e+05   -1.56e+05\n",
      "C(type)[T.tenement]                 -1.021e+05   4643.551    -21.979      0.000   -1.11e+05    -9.3e+04\n",
      "C(rooms)[T.2]                         -12.2959   6656.969     -0.002      0.999   -1.31e+04     1.3e+04\n",
      "C(rooms)[T.3]                       -2.282e+04   8330.544     -2.739      0.006   -3.91e+04   -6490.799\n",
      "C(rooms)[T.4]                       -3.289e+04   9746.545     -3.374      0.001    -5.2e+04   -1.38e+04\n",
      "C(rooms)[T.5]                       -8.653e+04   1.25e+04     -6.896      0.000   -1.11e+05   -6.19e+04\n",
      "C(rooms)[T.6]                         -5.6e+04   1.78e+04     -3.152      0.002   -9.08e+04   -2.12e+04\n",
      "C(ownership)[T.cooperative]         -6222.3623   4776.664     -1.303      0.193   -1.56e+04    3139.926\n",
      "C(ownership)[T.udziaÃ",
      "Â]           -5.007e+04   1.09e+05     -0.460      0.646   -2.63e+05    1.63e+05\n",
      "C(buildingmaterial)[T.concreteSlab] -8.946e+04   4285.107    -20.877      0.000   -9.79e+04   -8.11e+04\n",
      "area                                 1.218e+04    395.037     30.833      0.000    1.14e+04     1.3e+04\n",
      "area2                                  13.4405      2.522      5.329      0.000       8.497      18.384\n",
      "schooldistance                       2.278e+04   6173.430      3.690      0.000    1.07e+04    3.49e+04\n",
      "clinicdistance                      -4.205e+04   2111.181    -19.916      0.000   -4.62e+04   -3.79e+04\n",
      "postofficedistance                   4218.5406   5215.244      0.809      0.419   -6003.366    1.44e+04\n",
      "kindergartendistance                -1.304e+04   6270.414     -2.080      0.038   -2.53e+04    -753.297\n",
      "restaurantdistance                  -2.336e+05   6270.045    -37.251      0.000   -2.46e+05   -2.21e+05\n",
      "collegedistance                     -7033.8062   1507.391     -4.666      0.000   -9988.300   -4079.312\n",
      "pharmacydistance                      1.38e+05   7396.204     18.652      0.000    1.23e+05    1.52e+05\n",
      "hasparkingspace                     -1390.8979   2908.362     -0.478      0.632   -7091.303    4309.507\n",
      "hasbalcony                           7649.8710   2861.212      2.674      0.008    2041.881    1.33e+04\n",
      "haselevator                          2.066e+05   3230.553     63.938      0.000       2e+05    2.13e+05\n",
      "hassecurity                          1.373e+04   3929.488      3.495      0.000    6031.429    2.14e+04\n",
      "hasstorageroom                      -1.162e+04   3003.517     -3.867      0.000   -1.75e+04   -5728.984\n",
      "end_0                                 2.76e+04   5851.078      4.718      0.000    1.61e+04    3.91e+04\n",
      "end_1                               -6417.6128   6315.693     -1.016      0.310   -1.88e+04    5961.180\n",
      "end_2                                1.511e+04   6076.174      2.487      0.013    3202.113     2.7e+04\n",
      "end_3                                4.653e+04   6125.825      7.595      0.000    3.45e+04    5.85e+04\n",
      "end_4                                1.639e+04   6087.362      2.692      0.007    4456.701    2.83e+04\n",
      "end_5                                2.107e+04   6056.247      3.479      0.001    9198.474    3.29e+04\n",
      "end_6                                7788.2287   5948.492      1.309      0.190   -3870.849    1.94e+04\n",
      "end_7                                1.889e+04   5984.596      3.156      0.002    7156.473    3.06e+04\n",
      "end_8                                2287.9680   5824.845      0.393      0.694   -9128.761    1.37e+04\n",
      "==============================================================================\n",
      "Omnibus:                     4500.400   Durbin-Watson:                   1.149\n",
      "Prob(Omnibus):                  0.000   Jarque-Bera (JB):            12297.154\n",
      "Skew:                           0.444   Prob(JB):                         0.00\n",
      "Kurtosis:                       5.089   Cond. No.                     4.40e+05\n",
      "==============================================================================\n",
      "\n",
      "Notes:\n",
      "[1] Standard Errors assume that the covariance matrix of the errors is correctly specified.\n",
      "[2] The condition number is large, 4.4e+05. This might indicate that there are\n",
      "strong multicollinearity or other numerical problems.\n"
     ]
    }
   ],
   "source": [
    "import statsmodels.formula.api as smf\n",
    "\n",
    "# Fórmula simple: statsmodels crea dummies automáticamente para las categóricas con C()\n",
    "model = smf.ols(\n",
    "    \"price ~ area + area2 \\\n",
    "             + schooldistance + clinicdistance + postofficedistance + kindergartendistance + restaurantdistance + collegedistance + pharmacydistance \\\n",
    "             + hasparkingspace + hasbalcony + haselevator + hassecurity + hasstorageroom \\\n",
    "             + C(month) + C(type) + C(rooms) + C(ownership) + C(buildingmaterial) \\\n",
    "             + end_0 + end_1 + end_2 + end_3 + end_4 + end_5 + end_6 + end_7 + end_8\",\n",
    "    data=df\n",
    ").fit()\n",
    "\n",
    "print(model.summary())"
   ]
  },
  {
   "cell_type": "code",
   "execution_count": 18,
   "id": "ddad0aac",
   "metadata": {},
   "outputs": [],
   "source": [
    "with open(\"regression_results.txt\", \"w\") as f:\n",
    "    f.write(model.summary().as_text())"
   ]
  },
  {
   "cell_type": "code",
   "execution_count": 16,
   "id": "64f64211",
   "metadata": {},
   "outputs": [
    {
     "data": {
      "text/plain": [
       "'\\n# Forma Corta\\n\\nformula = (\\n    \"price ~ \" \\n    + \" + \".join(last_digit_dummies + continuous_vars + binary_vars) \\n    + \" + \" \\n    + \" + \".join([f\"C({c})\" for c in categorical_vars])\\n)\\n\\nmodel = smf.ols(formula=formula, data=df).fit()\\n\\nprint(model.summary())\\n'"
      ]
     },
     "execution_count": 16,
     "metadata": {},
     "output_type": "execute_result"
    }
   ],
   "source": [
    "\"\"\"\n",
    "# Forma Corta\n",
    "\n",
    "formula = (\n",
    "    \"price ~ \" \n",
    "    + \" + \".join(last_digit_dummies + continuous_vars + binary_vars) \n",
    "    + \" + \" \n",
    "    + \" + \".join([f\"C({c})\" for c in categorical_vars])\n",
    ")\n",
    "\n",
    "model = smf.ols(formula=formula, data=df).fit()\n",
    "\n",
    "print(model.summary())\n",
    "\"\"\""
   ]
  },
  {
   "cell_type": "markdown",
   "id": "06e1c4ee",
   "metadata": {},
   "source": [
    "##### Comentario"
   ]
  },
  {
   "cell_type": "markdown",
   "id": "20994306",
   "metadata": {},
   "source": [
    "- El coeficiente de end_0 se interpreta en relación con la categoría base, que es end_9 (departamentos cuyo área termina en 9).\n",
    "- Signo positivo: los departamentos cuyo área termina en 0 tienen un precio mayor que los que terminan en 9, manteniendo constantes las demás variables del modelo (área, área², distancias, características, tipo de construcción, etc.).\n",
    "- Magnitud: el precio promedio es ≈ 27,600 (soles) más alto.\n",
    "- Significancia estadística: el p-valor = 0.000 indica que este efecto es robusto y difícilmente atribuible al azar."
   ]
  },
  {
   "cell_type": "markdown",
   "id": "e7db13b1",
   "metadata": {},
   "source": [
    "2 Perform the same regression but this time by partialling-out. Your target parameter will be the one associated with end_0. Print a summary table and verify the coefficients are the same with both methods.\n",
    "\n",
    "(2 points)"
   ]
  },
  {
   "cell_type": "code",
   "execution_count": 37,
   "id": "b89168c6",
   "metadata": {},
   "outputs": [
    {
     "name": "stdout",
     "output_type": "stream",
     "text": [
      "Coef (full OLS) end_0: 27604.1420268837\n",
      "Coef (partialling-out) end_0: 27604.142026883816\n",
      "¿Iguales?: True\n"
     ]
    }
   ],
   "source": [
    "from patsy import dmatrices\n",
    "import statsmodels.api as sm\n",
    "import numpy as np\n",
    "import pandas as pd\n",
    "\n",
    "# MISMA fórmula que tu OLS completo\n",
    "formula = (\n",
    "    \"price ~ area + area2 \"\n",
    "    \"+ schooldistance + clinicdistance + postofficedistance \"\n",
    "    \"+ kindergartendistance + restaurantdistance \"\n",
    "    \"+ collegedistance + pharmacydistance \"\n",
    "    \"+ hasparkingspace + hasbalcony + haselevator + hassecurity + hasstorageroom \"\n",
    "    \"+ C(month) + C(type) + C(rooms) + C(ownership) + C(buildingmaterial) \"\n",
    "    \"+ end_0 + end_1 + end_2 + end_3 + end_4 + end_5 + end_6 + end_7 + end_8\"\n",
    ")\n",
    "\n",
    "# 1) Construye Y y X EXACTAMENTE como los usa la fórmula (mismas dummies, misma base, mismas filas)\n",
    "y_mat, X_mat = dmatrices(formula, data=df, return_type=\"dataframe\")\n",
    "\n",
    "# 2) OLS completo (referencia)\n",
    "full = sm.OLS(y_mat, X_mat).fit()\n",
    "beta_full = full.params[\"end_0\"]\n",
    "print(\"Coef (full OLS) end_0:\", beta_full)\n",
    "\n",
    "# 3) Partialling-out usando la MISMA X:\n",
    "#    W = controles (incluye Intercept), x = columna end_0\n",
    "W = X_mat.drop(columns=[\"end_0\"])   # ya VIENE con 'Intercept', no agregues otra constante\n",
    "x = X_mat[\"end_0\"]\n",
    "y = y_mat.iloc[:, 0]                # columna 'price' como Serie\n",
    "\n",
    "# Residualiza con los mismos controles W\n",
    "res_y = sm.OLS(y, W).fit().resid\n",
    "res_x = sm.OLS(x, W).fit().resid\n",
    "\n",
    "# Re-regresión de residuos (sin constante)\n",
    "partial = sm.OLS(res_y, res_x).fit()\n",
    "beta_partial = partial.params.iloc[0]\n",
    "print(\"Coef (partialling-out) end_0:\", beta_partial)\n",
    "\n",
    "# 4) Verificación\n",
    "print(\"¿Iguales?:\", np.isclose(beta_full, beta_partial, rtol=1e-10, atol=1e-8))\n"
   ]
  },
  {
   "cell_type": "code",
   "execution_count": 39,
   "id": "30301334",
   "metadata": {},
   "outputs": [],
   "source": [
    "with open(\"regression_results_partialling_out.txt\", \"w\") as f:\n",
    "    f.write(partial.summary().as_text())"
   ]
  },
  {
   "cell_type": "markdown",
   "id": "cbeb22f8",
   "metadata": {},
   "source": [
    "# 3c Price premium for area that ends in 0-digit (3 points)"
   ]
  },
  {
   "cell_type": "markdown",
   "id": "900ece42",
   "metadata": {},
   "source": [
    "In this section we'll attempt to see if apartments whose area ends at 0 are valued higher than what their features would suggest. Perform the following tasks.\n",
    "\n"
   ]
  },
  {
   "cell_type": "markdown",
   "id": "a35448e9",
   "metadata": {},
   "source": [
    "1 Train the model\n",
    "Estimate the same linear regression model, but only using apartments whose area does not end in 0.\n",
    "(1.25 points)\n",
    "\n"
   ]
  },
  {
   "cell_type": "code",
   "execution_count": 38,
   "id": "85f9893e",
   "metadata": {},
   "outputs": [
    {
     "name": "stdout",
     "output_type": "stream",
     "text": [
      "                            OLS Regression Results                            \n",
      "==============================================================================\n",
      "Dep. Variable:                  price   R-squared:                       0.587\n",
      "Model:                            OLS   Adj. R-squared:                  0.587\n",
      "Method:                 Least Squares   F-statistic:                     1944.\n",
      "Date:                Sun, 31 Aug 2025   Prob (F-statistic):               0.00\n",
      "Time:                        23:21:44   Log-Likelihood:            -7.1180e+05\n",
      "No. Observations:               50666   AIC:                         1.424e+06\n",
      "Df Residuals:                   50628   BIC:                         1.424e+06\n",
      "Df Model:                          37                                         \n",
      "Covariance Type:            nonrobust                                         \n",
      "=======================================================================================================\n",
      "                                          coef    std err          t      P>|t|      [0.025      0.975]\n",
      "-------------------------------------------------------------------------------------------------------\n",
      "Intercept                            1.131e+05   1.38e+04      8.185      0.000     8.6e+04     1.4e+05\n",
      "C(month)[T.2]                        1.921e+04   5038.024      3.813      0.000    9333.163    2.91e+04\n",
      "C(month)[T.3]                        3.539e+04   4978.841      7.108      0.000    2.56e+04    4.52e+04\n",
      "C(month)[T.4]                        5.102e+04   4850.404     10.518      0.000    4.15e+04    6.05e+04\n",
      "C(month)[T.5]                        6.384e+04   4791.984     13.321      0.000    5.44e+04    7.32e+04\n",
      "C(month)[T.6]                         7.23e+04   4739.803     15.253      0.000     6.3e+04    8.16e+04\n",
      "C(type)[T.blockOfFlats]             -1.618e+05   4381.231    -36.924      0.000    -1.7e+05   -1.53e+05\n",
      "C(type)[T.tenement]                 -1.042e+05   4936.089    -21.109      0.000   -1.14e+05   -9.45e+04\n",
      "C(rooms)[T.2]                       -3646.9003   7048.250     -0.517      0.605   -1.75e+04    1.02e+04\n",
      "C(rooms)[T.3]                       -3.208e+04   8809.697     -3.642      0.000   -4.94e+04   -1.48e+04\n",
      "C(rooms)[T.4]                       -4.713e+04   1.03e+04     -4.562      0.000   -6.74e+04   -2.69e+04\n",
      "C(rooms)[T.5]                       -8.605e+04   1.33e+04     -6.449      0.000   -1.12e+05   -5.99e+04\n",
      "C(rooms)[T.6]                       -1.052e+05   1.89e+04     -5.551      0.000   -1.42e+05    -6.8e+04\n",
      "C(ownership)[T.cooperative]         -6190.8396   4993.326     -1.240      0.215    -1.6e+04    3596.133\n",
      "C(ownership)[T.udziaÃ",
      "Â]           -5.417e+04   1.08e+05     -0.501      0.617   -2.66e+05    1.58e+05\n",
      "C(buildingmaterial)[T.concreteSlab] -8.769e+04   4494.251    -19.512      0.000   -9.65e+04   -7.89e+04\n",
      "area                                 1.199e+04    420.292     28.529      0.000    1.12e+04    1.28e+04\n",
      "area2                                  16.0478      2.692      5.962      0.000      10.772      21.323\n",
      "schooldistance                       1.719e+04   6552.814      2.623      0.009    4345.795       3e+04\n",
      "clinicdistance                      -3.982e+04   2217.340    -17.958      0.000   -4.42e+04   -3.55e+04\n",
      "postofficedistance                   3948.8494   5505.106      0.717      0.473   -6841.219    1.47e+04\n",
      "kindergartendistance                 -1.14e+04   6654.865     -1.713      0.087   -2.44e+04    1640.568\n",
      "restaurantdistance                  -2.307e+05   6661.423    -34.627      0.000   -2.44e+05   -2.18e+05\n",
      "collegedistance                     -7555.4642   1579.348     -4.784      0.000   -1.07e+04   -4459.925\n",
      "pharmacydistance                     1.348e+05   7837.465     17.206      0.000    1.19e+05     1.5e+05\n",
      "hasparkingspace                      4248.0417   3077.983      1.380      0.168   -1784.838    1.03e+04\n",
      "hasbalcony                           7263.0964   3017.758      2.407      0.016    1348.257    1.32e+04\n",
      "haselevator                          2.054e+05   3416.474     60.108      0.000    1.99e+05    2.12e+05\n",
      "hassecurity                           1.81e+04   4187.878      4.322      0.000    9891.078    2.63e+04\n",
      "hasstorageroom                      -9803.3019   3183.251     -3.080      0.002    -1.6e+04   -3564.096\n",
      "end_1                               -6158.9439   6277.622     -0.981      0.327   -1.85e+04    6145.264\n",
      "end_2                                1.506e+04   6039.582      2.493      0.013    3219.379    2.69e+04\n",
      "end_3                                4.691e+04   6089.555      7.704      0.000     3.5e+04    5.88e+04\n",
      "end_4                                1.657e+04   6051.493      2.738      0.006    4707.231    2.84e+04\n",
      "end_5                                2.059e+04   6019.576      3.420      0.001    8790.781    3.24e+04\n",
      "end_6                                7616.9122   5912.630      1.288      0.198   -3971.906    1.92e+04\n",
      "end_7                                1.863e+04   5949.118      3.131      0.002    6966.757    3.03e+04\n",
      "end_8                                2318.8689   5790.006      0.400      0.689   -9029.606    1.37e+04\n",
      "==============================================================================\n",
      "Omnibus:                     4171.396   Durbin-Watson:                   1.148\n",
      "Prob(Omnibus):                  0.000   Jarque-Bera (JB):            11576.109\n",
      "Skew:                           0.461   Prob(JB):                         0.00\n",
      "Kurtosis:                       5.153   Cond. No.                     4.08e+05\n",
      "==============================================================================\n",
      "\n",
      "Notes:\n",
      "[1] Standard Errors assume that the covariance matrix of the errors is correctly specified.\n",
      "[2] The condition number is large, 4.08e+05. This might indicate that there are\n",
      "strong multicollinearity or other numerical problems.\n"
     ]
    }
   ],
   "source": [
    "import statsmodels.formula.api as smf\n",
    "\n",
    "# Filtrar: solo observaciones cuyo área NO termina en 0\n",
    "df_no_end0 = df[df[\"end_0\"] == 0].copy()\n",
    "\n",
    "# Misma fórmula de antes\n",
    "formula = (\n",
    "    \"price ~ area + area2 \"\n",
    "    \"+ schooldistance + clinicdistance + postofficedistance \"\n",
    "    \"+ kindergartendistance + restaurantdistance \"\n",
    "    \"+ collegedistance + pharmacydistance \"\n",
    "    \"+ hasparkingspace + hasbalcony + haselevator + hassecurity + hasstorageroom \"\n",
    "    \"+ C(month) + C(type) + C(rooms) + C(ownership) + C(buildingmaterial) \"\n",
    "    \"+ end_1 + end_2 + end_3 + end_4 + end_5 + end_6 + end_7 + end_8\"\n",
    ")\n",
    "\n",
    "# Ajustar el modelo solo con df_no_end0\n",
    "model_no_end0 = smf.ols(formula, data=df_no_end0).fit()\n",
    "\n",
    "print(model_no_end0.summary())"
   ]
  },
  {
   "cell_type": "markdown",
   "id": "4ba2cebb",
   "metadata": {},
   "source": [
    "2 Predict prices\n",
    "Using the estimated coefficients from step 1, predict apartment prices for the entire sample, including those apartments whose area ends in 0.\n",
    "(1.25 points)"
   ]
  },
  {
   "cell_type": "code",
   "execution_count": 40,
   "id": "cf3affbf",
   "metadata": {},
   "outputs": [
    {
     "name": "stdout",
     "output_type": "stream",
     "text": [
      "     price  predicted_price_no_end0\n",
      "0  1199999             1.488268e+06\n",
      "1   650000             9.157166e+05\n",
      "2   590000             7.813885e+05\n",
      "3   584999                      NaN\n",
      "4   363000             3.986302e+05\n",
      "5   717000             1.043160e+06\n",
      "6   689000             8.207167e+05\n",
      "7   790000             1.173385e+06\n",
      "8   560000             8.390421e+05\n",
      "9   590000             6.289689e+05\n"
     ]
    }
   ],
   "source": [
    "# Predecir precios para toda la muestra con el modelo entrenado en df_no_end0\n",
    "df[\"predicted_price_no_end0\"] = model_no_end0.predict(df)\n",
    "\n",
    "# Revisar algunas predicciones\n",
    "print(df[[\"price\", \"predicted_price_no_end0\"]].head(10))"
   ]
  },
  {
   "cell_type": "markdown",
   "id": "adc6ae27",
   "metadata": {},
   "source": [
    "3 Compare averages\n",
    "For apartments whose area ends in 0, compute both the average actual price and the average predicted price.\n",
    "Based on this comparison, try to determine whether apartments with areas ending in 0 are sold at a higher price than what the model predicts. (You don't need to make a statistical tests, just say a guess based on your results)\n",
    "(0.5 points)"
   ]
  },
  {
   "cell_type": "code",
   "execution_count": 41,
   "id": "b4151a59",
   "metadata": {},
   "outputs": [
    {
     "name": "stdout",
     "output_type": "stream",
     "text": [
      "Precio promedio real (end_0 = 1): 873616.2969725713\n",
      "Precio promedio predicho (end_0 = 1): 876881.8195282582\n",
      "Diferencia (real - predicho): -3265.5225556868827\n"
     ]
    }
   ],
   "source": [
    "# Filtrar solo los apartamentos cuyo área termina en 0\n",
    "df_end0 = df[df[\"end_0\"] == 1]\n",
    "\n",
    "# Calcular promedios\n",
    "avg_actual = df_end0[\"price\"].mean()\n",
    "avg_predicted = df_end0[\"predicted_price_no_end0\"].mean()\n",
    "\n",
    "print(\"Precio promedio real (end_0 = 1):\", avg_actual)\n",
    "print(\"Precio promedio predicho (end_0 = 1):\", avg_predicted)\n",
    "\n",
    "# Diferencia\n",
    "print(\"Diferencia (real - predicho):\", avg_actual - avg_predicted)\n"
   ]
  },
  {
   "cell_type": "markdown",
   "id": "2f018b27",
   "metadata": {},
   "source": [
    "##### Comentario"
   ]
  },
  {
   "cell_type": "markdown",
   "id": "5e3d5b40",
   "metadata": {},
   "source": [
    "Como el promedio real < promedio predicho → en realidad se venden más baratos de lo esperado."
   ]
  },
  {
   "cell_type": "code",
   "execution_count": null,
   "id": "9c97c771-808e-43e1-987d-e9ea253830da",
   "metadata": {},
   "outputs": [],
   "source": []
  }
 ],
 "metadata": {
  "kernelspec": {
   "display_name": "Python [conda env:r_enviroment]",
   "language": "python",
   "name": "conda-env-r_enviroment-py"
  },
  "language_info": {
   "codemirror_mode": {
    "name": "ipython",
    "version": 3
   },
   "file_extension": ".py",
   "mimetype": "text/x-python",
   "name": "python",
   "nbconvert_exporter": "python",
   "pygments_lexer": "ipython3",
   "version": "3.13.5"
  }
 },
 "nbformat": 4,
 "nbformat_minor": 5
}
