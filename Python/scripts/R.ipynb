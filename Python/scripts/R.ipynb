{
 "cells": [
  {
   "cell_type": "markdown",
   "id": "0b04742b-bc41-4441-b56b-57ed88d385df",
   "metadata": {},
   "source": [
    "# R"
   ]
  },
  {
   "cell_type": "markdown",
   "id": "6c63df18-6187-4a95-b7d4-17faf7fece9b",
   "metadata": {},
   "source": [
    "# Instructions"
   ]
  },
  {
   "cell_type": "markdown",
   "id": "c8a64d8d-e453-4d29-8627-a11d828fd977",
   "metadata": {},
   "source": [
    "In this assignment, you will estimate a hedonic pricing model using data on apartment prices in Poland. A hedonic pricing model estimates the value of a good based on its features. For apartments, the price depends on attributes such as area, number of rooms, distance to points of interests, etc.\n",
    "\n",
    "Data is available at CausalAI-Course/Data/apartments.csv. Below, you will find a detailed description of each variable in the dataset. Make sure to carefully review these variable definitions"
   ]
  },
  {
   "cell_type": "markdown",
   "id": "b3158c6f-36e9-424e-a2cd-3703730d4ee0",
   "metadata": {},
   "source": [
    "# Dataset Description"
   ]
  },
  {
   "cell_type": "markdown",
   "id": "898ea8d5-402f-4c85-99ad-59f1902e1929",
   "metadata": {},
   "source": [
    "- price: Apartment price in PLN (Polish złoty).\n",
    "- month: Month of year\n",
    "- id: Unique identifier for each listing.\n",
    "- type: Type of apartment (e.g., flat, studio, etc.).\n",
    "- area: Total usable area of the apartment (in m²).\n",
    "- rooms: Number of rooms.\n",
    "- schoolDistance: Distance to the nearest school (in km).\n",
    "- clinicDistance: Distance to the nearest clinic or hospital (in km).\n",
    "- postOfficeDistance: Distance to the nearest post office (in km).\n",
    "- kindergartenDistance: Distance to the nearest kindergarten (in km).\n",
    "- restaurantDistance: Distance to the nearest restaurant (in km).\n",
    "- collegeDistance: Distance to the nearest college/university (in km).\n",
    "- pharmacyDistance: Distance to the nearest pharmacy (in km).\n",
    "- ownership: Type of ownership (e.g., freehold, cooperative).\n",
    "- buildingMaterial: Main material used for construction (e.g., brick, concrete).\n",
    "- hasParkingSpace: Boolean (1/0) indicating if a parking space is available.\n",
    "- hasBalcony: Boolean (1/0) indicating if the apartment has a balcony.\n",
    "- hasElevator: Boolean (1/0) indicating if the building has an elevator.\n",
    "- hasSecurity: Boolean (1/0) indicating if the building has security features.\n",
    "- hasStorageRoom: Boolean (1/0) indicating if the apartment has a storage room."
   ]
  },
  {
   "cell_type": "markdown",
   "id": "ad33b1e1-4eba-4bb5-b09e-7e2188c8a60e",
   "metadata": {},
   "source": [
    "============================================================\n",
    "Exercise 1\n",
    "============================================================"
   ]
  },
  {
   "cell_type": "code",
   "execution_count": null,
   "id": "829d60f7-6443-4bf5-acf4-b74c9807bad2",
   "metadata": {},
   "outputs": [],
   "source": []
  },
  {
   "cell_type": "code",
   "execution_count": null,
   "id": "e4d6c731-e15a-4d33-afea-b01b02b95581",
   "metadata": {},
   "outputs": [],
   "source": []
  },
  {
   "cell_type": "code",
   "execution_count": null,
   "id": "aedc5abe-67e7-4059-ab93-e5966aea5da2",
   "metadata": {},
   "outputs": [],
   "source": []
  },
  {
   "cell_type": "markdown",
   "id": "026344d0-0e72-487e-aaef-0be1613aef9e",
   "metadata": {},
   "source": [
    "============================================================\n",
    "Exercise 2\n",
    "============================================================"
   ]
  },
  {
   "cell_type": "markdown",
   "id": "a47c7c27-8891-4387-a587-26bcabf320bc",
   "metadata": {},
   "source": [
    "2 Overfitting (8 points)\n",
    "Simulate a data generating process like in Lab2 with only 2 variables X and Y, for \n",
    "n=1000. For practical purposes, make the intercept parameter of your data generating process be equal to zero. You are asked to do the following in a loop:\n",
    "* Estimate a linear model with just one feature x1=x \n",
    "* Estimate a linear model with two features x1=x and x2=x2\n",
    "* Repeat the same process for the following number of features\n",
    "    * 1, 2, 5, 10, 20, 50, 100, 200, 500, 1000\n",
    "\n",
    "In each iteration you should keep the R-squared, adjusted R-squared, and the out-of-sample R-squared. Only for the out-of-sample R-squared you'll need to split the data into 75% training and 25% testing.\n",
    "\n",
    "(1 point - Variable generation and adecuate loop)\n",
    "\n",
    "(1 point - Estimation on full sample)\n",
    "\n",
    "(2 points - Estimation on train/test split)\n",
    "\n",
    "(1 points - R-squared computation and storage)\n",
    "\n",
    "Finally, in three separate graphs you should plot the respective R-squared in the y-axis, and the number of features in the x-axis. Comment your results and provide intuition.\n",
    "\n",
    "(3 points - One for each graph; keep in mind titles and axis ranges and labels)"
   ]
  },
  {
   "cell_type": "code",
   "execution_count": 1,
   "id": "a2cde801-d5a0-4141-b8ea-ecee7db8812d",
   "metadata": {},
   "outputs": [],
   "source": [
    "# Load libraries\n",
    "library(ggplot2)\n",
    "library(caTools)"
   ]
  },
  {
   "cell_type": "code",
   "execution_count": 3,
   "id": "ea744351-d5d1-4201-aa2e-f387e651883e",
   "metadata": {},
   "outputs": [],
   "source": [
    "# ------------------------------------------------------------\n",
    "# 1. Generate base data (simulation with noise)\n",
    "# ------------------------------------------------------------\n",
    "set.seed(42)\n",
    "n <- 100\n",
    "x <- seq(0, 10, length.out = n)\n",
    "y <- 3 + 2*x + 0.5*x^2 - 0.05*x^3 + rnorm(n, mean=0, sd=5)\n",
    "\n",
    "# Put into a data frame\n",
    "data <- data.frame(x = x, y = y)\n"
   ]
  },
  {
   "cell_type": "code",
   "execution_count": 4,
   "id": "e399cefb-e0b0-4e6a-9ed1-8ce54410e4d1",
   "metadata": {},
   "outputs": [],
   "source": [
    "# ------------------------------------------------------------\n",
    "# 2. Split into training and test sets\n",
    "# ------------------------------------------------------------\n",
    "set.seed(42)\n",
    "split <- sample.split(data$y, SplitRatio = 0.7)\n",
    "train <- subset(data, split == TRUE)\n",
    "test  <- subset(data, split == FALSE)"
   ]
  },
  {
   "cell_type": "code",
   "execution_count": 5,
   "id": "3f9f7175-56d8-4719-8367-f1a6ee4df1bf",
   "metadata": {},
   "outputs": [],
   "source": [
    "# ------------------------------------------------------------\n",
    "# 3. Polynomial model evaluation with loop\n",
    "# ------------------------------------------------------------\n",
    "# Function to calculate R²\n",
    "R2 <- function(y, yhat) {\n",
    "  1 - sum((y - yhat)^2) / sum((y - mean(y))^2)\n",
    "}\n",
    "\n",
    "results <- data.frame(Degree = integer(), R2_train = numeric(), R2_test = numeric())\n",
    "\n",
    "# Test polynomials from degree 1 to 10\n",
    "for (degree in 1:10) {\n",
    "  # Fit polynomial regression\n",
    "  model <- lm(y ~ poly(x, degree, raw=TRUE), data=train)\n",
    "  \n",
    "  # Predictions\n",
    "  y_train_pred <- predict(model, newdata=train)\n",
    "  y_test_pred  <- predict(model, newdata=test)\n",
    "  \n",
    "  # R² calculation\n",
    "  r2_train <- R2(train$y, y_train_pred)\n",
    "  r2_test  <- R2(test$y, y_test_pred)\n",
    "  \n",
    "  # Save results\n",
    "  results <- rbind(results, data.frame(Degree=degree, R2_train=r2_train, R2_test=r2_test))\n",
    "}"
   ]
  },
  {
   "cell_type": "code",
   "execution_count": 6,
   "id": "b790a47a-f183-4021-a12c-071a39c837c9",
   "metadata": {},
   "outputs": [
    {
     "name": "stdout",
     "output_type": "stream",
     "text": [
      "R² results by polynomial degree:\n",
      "\n",
      "   Degree  R2_train   R2_test\n",
      "1       1 0.5967964 0.5872650\n",
      "2       2 0.6381358 0.5662965\n",
      "3       3 0.6783229 0.6687791\n",
      "4       4 0.6785511 0.6688442\n",
      "5       5 0.6796406 0.6542731\n",
      "6       6 0.6829418 0.6574572\n",
      "7       7 0.6881985 0.6098777\n",
      "8       8 0.6887113 0.5942382\n",
      "9       9 0.7014517 0.3886181\n",
      "10     10 0.7130804 0.5952305\n"
     ]
    }
   ],
   "source": [
    "\n",
    "# ------------------------------------------------------------\n",
    "# 4. Show results\n",
    "# ------------------------------------------------------------\n",
    "cat(\"R² results by polynomial degree:\\n\\n\")\n",
    "print(results)"
   ]
  },
  {
   "cell_type": "code",
   "execution_count": 7,
   "id": "472d0265-2f25-4795-9dd8-90dce460e5a1",
   "metadata": {},
   "outputs": [
    {
     "name": "stderr",
     "output_type": "stream",
     "text": [
      "Warning message:\n",
      "\"\u001b[1m\u001b[22mUsing `size` aesthetic for lines was deprecated in ggplot2 3.4.0.\n",
      "\u001b[36mℹ\u001b[39m Please use `linewidth` instead.\"\n"
     ]
    },
    {
     "data": {
      "image/png": "[encoded data removed]",
      "text/plain": [
       "plot without title"
      ]
     },
     "metadata": {
      "image/png": {
       "height": 420,
       "width": 420
      }
     },
     "output_type": "display_data"
    }
   ],
   "source": [
    "\n",
    "# ------------------------------------------------------------\n",
    "# 5. Plot performance\n",
    "# ------------------------------------------------------------\n",
    "ggplot(results, aes(x=Degree)) +\n",
    "  geom_line(aes(y=R2_train, color=\"Train R²\"), size=1) +\n",
    "  geom_line(aes(y=R2_test, color=\"Test R²\"), size=1) +\n",
    "  geom_point(aes(y=R2_train, color=\"Train R²\")) +\n",
    "  geom_point(aes(y=R2_test, color=\"Test R²\")) +\n",
    "  labs(title=\"Polynomial model performance on Train/Test\",\n",
    "       x=\"Polynomial degree\", y=\"R²\") +\n",
    "  theme_minimal() +\n",
    "  scale_color_manual(values=c(\"Train R²\"=\"blue\", \"Test R²\"=\"red\"))"
   ]
  },
  {
   "cell_type": "markdown",
   "id": "56f8b0f3-4c81-4527-aafd-77cd3e5a6be6",
   "metadata": {},
   "source": [
    "============================================================\n",
    "Exercise 3\n",
    "============================================================"
   ]
  },
  {
   "cell_type": "markdown",
   "id": "ed01ac13-ee79-4c4e-ba24-c7ad091408ed",
   "metadata": {},
   "source": [
    "In this section you'll need to do the following:\n",
    "\n",
    "- Create a variable area2 that's the square of area (0.25 points)\n",
    "- Convert 'hasparkingspace', 'hasbalcony', 'haselevator', 'hassecurity', 'hasstorageroom' to dummy variables (where 'yes' 'no' get mapped to 1, 0) (0.75 points)\n",
    "- For each last digit of area (i.e. 0,1,...,9), create a dummy variable if the last digit of area happens to be that number. Name your variables accordingly (e.g. end_0, end_1, ...end_9). (1 point)"
   ]
  },
  {
   "cell_type": "markdown",
   "id": "5cbcf4c2-456b-4955-95b1-8e3095e34035",
   "metadata": {},
   "source": [
    "##### Cargar base de datos"
   ]
  },
  {
   "cell_type": "code",
   "execution_count": null,
   "id": "fd6d58b0-ab13-439d-832b-466a41f7d248",
   "metadata": {},
   "outputs": [],
   "source": []
  },
  {
   "cell_type": "code",
   "execution_count": null,
   "id": "28443e21-53ca-4015-96e2-53fee6862042",
   "metadata": {},
   "outputs": [],
   "source": []
  },
  {
   "cell_type": "code",
   "execution_count": null,
   "id": "4aa0db06-b625-421e-994d-8130f09ed446",
   "metadata": {},
   "outputs": [],
   "source": []
  }
 ],
 "metadata": {
  "kernelspec": {
   "display_name": "R [conda env:r_enviroment]",
   "language": "R",
   "name": "conda-env-r_enviroment-r"
  },
  "language_info": {
   "codemirror_mode": "r",
   "file_extension": ".r",
   "mimetype": "text/x-r-source",
   "name": "R",
   "pygments_lexer": "r",
   "version": "4.4.3"
  }
 },
 "nbformat": 4,
 "nbformat_minor": 5
}
