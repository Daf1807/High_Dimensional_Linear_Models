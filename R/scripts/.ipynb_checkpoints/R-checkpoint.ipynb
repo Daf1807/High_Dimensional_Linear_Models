{
 "cells": [
  {
   "cell_type": "markdown",
   "id": "0b04742b-bc41-4441-b56b-57ed88d385df",
   "metadata": {},
   "source": [
    "# R"
   ]
  },
  {
   "cell_type": "markdown",
   "id": "6c63df18-6187-4a95-b7d4-17faf7fece9b",
   "metadata": {},
   "source": [
    "# Instructions"
   ]
  },
  {
   "cell_type": "markdown",
   "id": "c8a64d8d-e453-4d29-8627-a11d828fd977",
   "metadata": {},
   "source": [
    "In this assignment, you will estimate a hedonic pricing model using data on apartment prices in Poland. A hedonic pricing model estimates the value of a good based on its features. For apartments, the price depends on attributes such as area, number of rooms, distance to points of interests, etc.\n",
    "\n",
    "Data is available at CausalAI-Course/Data/apartments.csv. Below, you will find a detailed description of each variable in the dataset. Make sure to carefully review these variable definitions"
   ]
  },
  {
   "cell_type": "markdown",
   "id": "b3158c6f-36e9-424e-a2cd-3703730d4ee0",
   "metadata": {},
   "source": [
    "# Dataset Description"
   ]
  },
  {
   "cell_type": "markdown",
   "id": "898ea8d5-402f-4c85-99ad-59f1902e1929",
   "metadata": {},
   "source": [
    "- price: Apartment price in PLN (Polish złoty).\n",
    "- month: Month of year\n",
    "- id: Unique identifier for each listing.\n",
    "- type: Type of apartment (e.g., flat, studio, etc.).\n",
    "- area: Total usable area of the apartment (in m²).\n",
    "- rooms: Number of rooms.\n",
    "- schoolDistance: Distance to the nearest school (in km).\n",
    "- clinicDistance: Distance to the nearest clinic or hospital (in km).\n",
    "- postOfficeDistance: Distance to the nearest post office (in km).\n",
    "- kindergartenDistance: Distance to the nearest kindergarten (in km).\n",
    "- restaurantDistance: Distance to the nearest restaurant (in km).\n",
    "- collegeDistance: Distance to the nearest college/university (in km).\n",
    "- pharmacyDistance: Distance to the nearest pharmacy (in km).\n",
    "- ownership: Type of ownership (e.g., freehold, cooperative).\n",
    "- buildingMaterial: Main material used for construction (e.g., brick, concrete).\n",
    "- hasParkingSpace: Boolean (1/0) indicating if a parking space is available.\n",
    "- hasBalcony: Boolean (1/0) indicating if the apartment has a balcony.\n",
    "- hasElevator: Boolean (1/0) indicating if the building has an elevator.\n",
    "- hasSecurity: Boolean (1/0) indicating if the building has security features.\n",
    "- hasStorageRoom: Boolean (1/0) indicating if the apartment has a storage room."
   ]
  },
  {
   "cell_type": "markdown",
   "id": "ad33b1e1-4eba-4bb5-b09e-7e2188c8a60e",
   "metadata": {},
   "source": [
    "============================================================\n",
    "Exercise 1\n",
    "============================================================"
   ]
  },
  {
   "cell_type": "code",
   "execution_count": null,
   "id": "829d60f7-6443-4bf5-acf4-b74c9807bad2",
   "metadata": {},
   "outputs": [],
   "source": []
  },
  {
   "cell_type": "code",
   "execution_count": null,
   "id": "e4d6c731-e15a-4d33-afea-b01b02b95581",
   "metadata": {},
   "outputs": [],
   "source": []
  },
  {
   "cell_type": "code",
   "execution_count": null,
   "id": "aedc5abe-67e7-4059-ab93-e5966aea5da2",
   "metadata": {},
   "outputs": [],
   "source": []
  },
  {
   "cell_type": "markdown",
   "id": "026344d0-0e72-487e-aaef-0be1613aef9e",
   "metadata": {},
   "source": [
    "============================================================\n",
    "Exercise 2\n",
    "============================================================"
   ]
  },
  {
   "cell_type": "markdown",
   "id": "a47c7c27-8891-4387-a587-26bcabf320bc",
   "metadata": {},
   "source": [
    "2 Overfitting (8 points)\n",
    "Simulate a data generating process like in Lab2 with only 2 variables X and Y, for \n",
    "n=1000. For practical purposes, make the intercept parameter of your data generating process be equal to zero. You are asked to do the following in a loop:\n",
    "* Estimate a linear model with just one feature x1=x \n",
    "* Estimate a linear model with two features x1=x and x2=x2\n",
    "* Repeat the same process for the following number of features\n",
    "    * 1, 2, 5, 10, 20, 50, 100, 200, 500, 1000\n",
    "\n",
    "In each iteration you should keep the R-squared, adjusted R-squared, and the out-of-sample R-squared. Only for the out-of-sample R-squared you'll need to split the data into 75% training and 25% testing.\n",
    "\n",
    "(1 point - Variable generation and adecuate loop)\n",
    "\n",
    "(1 point - Estimation on full sample)\n",
    "\n",
    "(2 points - Estimation on train/test split)\n",
    "\n",
    "(1 points - R-squared computation and storage)\n",
    "\n",
    "Finally, in three separate graphs you should plot the respective R-squared in the y-axis, and the number of features in the x-axis. Comment your results and provide intuition.\n",
    "\n",
    "(3 points - One for each graph; keep in mind titles and axis ranges and labels)"
   ]
  },
  {
   "cell_type": "code",
   "execution_count": 1,
   "id": "a2cde801-d5a0-4141-b8ea-ecee7db8812d",
   "metadata": {},
   "outputs": [],
   "source": [
    "# Load libraries\n",
    "library(ggplot2)\n",
    "library(caTools)"
   ]
  },
  {
   "cell_type": "code",
   "execution_count": 3,
   "id": "ea744351-d5d1-4201-aa2e-f387e651883e",
   "metadata": {},
   "outputs": [],
   "source": [
    "# ------------------------------------------------------------\n",
    "# 1. Generate base data (simulation with noise)\n",
    "# ------------------------------------------------------------\n",
    "set.seed(42)\n",
    "n <- 100\n",
    "x <- seq(0, 10, length.out = n)\n",
    "y <- 3 + 2*x + 0.5*x^2 - 0.05*x^3 + rnorm(n, mean=0, sd=5)\n",
    "\n",
    "# Put into a data frame\n",
    "data <- data.frame(x = x, y = y)\n"
   ]
  },
  {
   "cell_type": "code",
   "execution_count": 4,
   "id": "e399cefb-e0b0-4e6a-9ed1-8ce54410e4d1",
   "metadata": {},
   "outputs": [],
   "source": [
    "# ------------------------------------------------------------\n",
    "# 2. Split into training and test sets\n",
    "# ------------------------------------------------------------\n",
    "set.seed(42)\n",
    "split <- sample.split(data$y, SplitRatio = 0.7)\n",
    "train <- subset(data, split == TRUE)\n",
    "test  <- subset(data, split == FALSE)"
   ]
  },
  {
   "cell_type": "code",
   "execution_count": 5,
   "id": "3f9f7175-56d8-4719-8367-f1a6ee4df1bf",
   "metadata": {},
   "outputs": [],
   "source": [
    "# ------------------------------------------------------------\n",
    "# 3. Polynomial model evaluation with loop\n",
    "# ------------------------------------------------------------\n",
    "# Function to calculate R²\n",
    "R2 <- function(y, yhat) {\n",
    "  1 - sum((y - yhat)^2) / sum((y - mean(y))^2)\n",
    "}\n",
    "\n",
    "results <- data.frame(Degree = integer(), R2_train = numeric(), R2_test = numeric())\n",
    "\n",
    "# Test polynomials from degree 1 to 10\n",
    "for (degree in 1:10) {\n",
    "  # Fit polynomial regression\n",
    "  model <- lm(y ~ poly(x, degree, raw=TRUE), data=train)\n",
    "  \n",
    "  # Predictions\n",
    "  y_train_pred <- predict(model, newdata=train)\n",
    "  y_test_pred  <- predict(model, newdata=test)\n",
    "  \n",
    "  # R² calculation\n",
    "  r2_train <- R2(train$y, y_train_pred)\n",
    "  r2_test  <- R2(test$y, y_test_pred)\n",
    "  \n",
    "  # Save results\n",
    "  results <- rbind(results, data.frame(Degree=degree, R2_train=r2_train, R2_test=r2_test))\n",
    "}"
   ]
  },
  {
   "cell_type": "code",
   "execution_count": 6,
   "id": "b790a47a-f183-4021-a12c-071a39c837c9",
   "metadata": {},
   "outputs": [
    {
     "name": "stdout",
     "output_type": "stream",
     "text": [
      "R² results by polynomial degree:\n",
      "\n",
      "   Degree  R2_train   R2_test\n",
      "1       1 0.5967964 0.5872650\n",
      "2       2 0.6381358 0.5662965\n",
      "3       3 0.6783229 0.6687791\n",
      "4       4 0.6785511 0.6688442\n",
      "5       5 0.6796406 0.6542731\n",
      "6       6 0.6829418 0.6574572\n",
      "7       7 0.6881985 0.6098777\n",
      "8       8 0.6887113 0.5942382\n",
      "9       9 0.7014517 0.3886181\n",
      "10     10 0.7130804 0.5952305\n"
     ]
    }
   ],
   "source": [
    "\n",
    "# ------------------------------------------------------------\n",
    "# 4. Show results\n",
    "# ------------------------------------------------------------\n",
    "cat(\"R² results by polynomial degree:\\n\\n\")\n",
    "print(results)"
   ]
  },
  {
   "cell_type": "code",
   "execution_count": 7,
   "id": "472d0265-2f25-4795-9dd8-90dce460e5a1",
   "metadata": {},
   "outputs": [
    {
     "name": "stderr",
     "output_type": "stream",
     "text": [
      "Warning message:\n",
      "\"\u001b[1m\u001b[22mUsing `size` aesthetic for lines was deprecated in ggplot2 3.4.0.\n",
      "\u001b[36mℹ\u001b[39m Please use `linewidth` instead.\"\n"
     ]
    },
    {
     "data": {
      "image/png": "[encoded data removed]",
      "text/plain": [
       "plot without title"
      ]
     },
     "metadata": {
      "image/png": {
       "height": 420,
       "width": 420
      }
     },
     "output_type": "display_data"
    }
   ],
   "source": [
    "\n",
    "# ------------------------------------------------------------\n",
    "# 5. Plot performance\n",
    "# ------------------------------------------------------------\n",
    "ggplot(results, aes(x=Degree)) +\n",
    "  geom_line(aes(y=R2_train, color=\"Train R²\"), size=1) +\n",
    "  geom_line(aes(y=R2_test, color=\"Test R²\"), size=1) +\n",
    "  geom_point(aes(y=R2_train, color=\"Train R²\")) +\n",
    "  geom_point(aes(y=R2_test, color=\"Test R²\")) +\n",
    "  labs(title=\"Polynomial model performance on Train/Test\",\n",
    "       x=\"Polynomial degree\", y=\"R²\") +\n",
    "  theme_minimal() +\n",
    "  scale_color_manual(values=c(\"Train R²\"=\"blue\", \"Test R²\"=\"red\"))"
   ]
  },
  {
   "cell_type": "markdown",
   "id": "56f8b0f3-4c81-4527-aafd-77cd3e5a6be6",
   "metadata": {},
   "source": [
    "============================================================\n",
    "Exercise 3\n",
    "============================================================"
   ]
  },
  {
   "cell_type": "markdown",
   "id": "ed01ac13-ee79-4c4e-ba24-c7ad091408ed",
   "metadata": {},
   "source": [
    "In this section you'll need to do the following:\n",
    "\n",
    "- Create a variable area2 that's the square of area (0.25 points)\n",
    "- Convert 'hasparkingspace', 'hasbalcony', 'haselevator', 'hassecurity', 'hasstorageroom' to dummy variables (where 'yes' 'no' get mapped to 1, 0) (0.75 points)\n",
    "- For each last digit of area (i.e. 0,1,...,9), create a dummy variable if the last digit of area happens to be that number. Name your variables accordingly (e.g. end_0, end_1, ...end_9). (1 point)"
   ]
  },
  {
   "cell_type": "markdown",
   "id": "fd96256f-ed6c-425b-abf8-92e8bd8f45c0",
   "metadata": {},
   "source": [
    "### Exercise 3a - Cleaning"
   ]
  },
  {
   "cell_type": "markdown",
   "id": "5cbcf4c2-456b-4955-95b1-8e3095e34035",
   "metadata": {},
   "source": [
    "1) Cargar datos"
   ]
  },
  {
   "cell_type": "code",
   "execution_count": 1,
   "id": "28443e21-53ca-4015-96e2-53fee6862042",
   "metadata": {},
   "outputs": [],
   "source": [
    "df <- read.csv(\"/Users/Dafne/Documents/GitHub/High_Dimensional_Linear_Models/R/input/apartments.csv\")"
   ]
  },
  {
   "cell_type": "markdown",
   "id": "51df63ce-6409-44e8-ba1c-083b96d5cf80",
   "metadata": {},
   "source": [
    "2) Crear variable area2"
   ]
  },
  {
   "cell_type": "code",
   "execution_count": 2,
   "id": "e6463f4d-d75c-44ff-86a4-cf752307ba0e",
   "metadata": {},
   "outputs": [],
   "source": [
    "df$area2 <- df$area^2"
   ]
  },
  {
   "cell_type": "markdown",
   "id": "d3898f20-2228-43f5-bd11-9a751e1355f2",
   "metadata": {},
   "source": [
    "3) Convertir variables yes/no a 1/0"
   ]
  },
  {
   "cell_type": "code",
   "execution_count": 3,
   "id": "9a990cd4-5832-4257-822f-052734ded0d0",
   "metadata": {},
   "outputs": [],
   "source": [
    "cols <- c(\"hasparkingspace\", \"hasbalcony\", \"haselevator\", \"hassecurity\", \"hasstorageroom\")\n",
    "df[cols] <- lapply(df[cols], function(x) ifelse(tolower(x) == \"yes\", 1, 0))\n"
   ]
  },
  {
   "cell_type": "markdown",
   "id": "8d03b230-1721-435f-bb20-413f06800d12",
   "metadata": {},
   "source": [
    "4) Crear dummies para el último dígito del área"
   ]
  },
  {
   "cell_type": "code",
   "execution_count": 4,
   "id": "e84772d4-bea7-4d66-af0d-30fc2f80fb91",
   "metadata": {},
   "outputs": [],
   "source": [
    "df$area_last_digit <- df$area %% 10\n",
    "for (d in 0:9) {\n",
    "  df[[paste0(\"end_\", d)]] <- ifelse(df$area_last_digit == d, 1, 0)\n",
    "}\n",
    "df$area_last_digit <- NULL  # eliminar columna auxiliar"
   ]
  },
  {
   "cell_type": "markdown",
   "id": "d5276600-187f-482d-af85-8a354c3062b9",
   "metadata": {},
   "source": [
    "### Exercise 3b - Linear Model Estimation"
   ]
  },
  {
   "cell_type": "code",
   "execution_count": 5,
   "id": "ea91708f-c2f7-49cd-b331-03798ef3bd57",
   "metadata": {},
   "outputs": [],
   "source": [
    "# Definir variables\n",
    "last_digit_dummies <- paste0(\"end_\", 0:8)  # end_9 será la categoría base\n",
    "continuous_vars <- c(\"area\", \"area2\",\n",
    "                     \"schooldistance\", \"clinicdistance\", \"postofficedistance\",\n",
    "                     \"kindergartendistance\", \"restaurantdistance\",\n",
    "                     \"collegedistance\", \"pharmacydistance\")\n",
    "binary_vars <- c(\"hasparkingspace\", \"hasbalcony\", \"haselevator\", \"hassecurity\", \"hasstorageroom\")\n",
    "categorical_vars <- c(\"month\", \"type\", \"rooms\", \"ownership\", \"buildingmaterial\")"
   ]
  },
  {
   "cell_type": "code",
   "execution_count": 6,
   "id": "39bd832e-8a84-4b71-bbaa-2cfd39c7175f",
   "metadata": {},
   "outputs": [],
   "source": [
    "# Fórmula del modelo\n",
    "formula <- as.formula(\n",
    "  paste(\"price ~\",\n",
    "        paste(c(last_digit_dummies, continuous_vars, binary_vars,\n",
    "                paste0(\"factor(\", categorical_vars, \")\")), collapse = \" + \"))\n",
    ")"
   ]
  },
  {
   "cell_type": "code",
   "execution_count": 7,
   "id": "070558a7-311b-454c-a412-3443f50d956c",
   "metadata": {},
   "outputs": [
    {
     "data": {
      "text/plain": [
       "\n",
       "Call:\n",
       "lm(formula = formula, data = df)\n",
       "\n",
       "Residuals:\n",
       "     Min       1Q   Median       3Q      Max \n",
       "-1395903  -168244    -9358   147485  1893597 \n",
       "\n",
       "Coefficients:\n",
       "                                       Estimate Std. Error t value Pr(>|t|)    \n",
       "(Intercept)                           1.127e+05  8.835e+03  12.758  < 2e-16 ***\n",
       "end_0                                 1.813e+04  4.023e+03   4.507 6.57e-06 ***\n",
       "end_1                                -1.612e+04  4.372e+03  -3.688 0.000226 ***\n",
       "end_2                                 7.850e+03  4.153e+03   1.890 0.058708 .  \n",
       "end_3                                 1.812e+04  4.239e+03   4.275 1.91e-05 ***\n",
       "end_4                                -2.223e+02  4.139e+03  -0.054 0.957166    \n",
       "end_5                                 1.658e+04  4.162e+03   3.984 6.79e-05 ***\n",
       "end_6                                 2.936e+03  4.074e+03   0.721 0.471098    \n",
       "end_7                                 1.677e+04  4.079e+03   4.111 3.94e-05 ***\n",
       "end_8                                 1.368e+02  3.985e+03   0.034 0.972616    \n",
       "area                                  1.099e+04  2.762e+02  39.778  < 2e-16 ***\n",
       "area2                                 1.966e+01  1.783e+00  11.026  < 2e-16 ***\n",
       "schooldistance                        4.045e+04  3.929e+03  10.296  < 2e-16 ***\n",
       "clinicdistance                       -4.314e+04  1.391e+03 -31.019  < 2e-16 ***\n",
       "postofficedistance                    1.858e+04  3.377e+03   5.502 3.75e-08 ***\n",
       "kindergartendistance                 -1.517e+04  4.134e+03  -3.670 0.000243 ***\n",
       "restaurantdistance                   -2.239e+05  4.126e+03 -54.257  < 2e-16 ***\n",
       "collegedistance                      -8.689e+03  9.736e+02  -8.924  < 2e-16 ***\n",
       "pharmacydistance                      1.281e+05  4.690e+03  27.309  < 2e-16 ***\n",
       "hasparkingspace                       1.078e+04  2.058e+03   5.235 1.66e-07 ***\n",
       "hasbalcony                            6.298e+03  1.935e+03   3.255 0.001135 ** \n",
       "haselevator                           1.627e+05  2.037e+03  79.874  < 2e-16 ***\n",
       "hassecurity                           4.331e+04  2.856e+03  15.164  < 2e-16 ***\n",
       "hasstorageroom                       -3.361e+04  1.987e+03 -16.910  < 2e-16 ***\n",
       "factor(month)2                        1.817e+04  3.274e+03   5.550 2.86e-08 ***\n",
       "factor(month)3                        3.007e+04  3.229e+03   9.312  < 2e-16 ***\n",
       "factor(month)4                        4.172e+04  3.152e+03  13.237  < 2e-16 ***\n",
       "factor(month)5                        5.106e+04  3.121e+03  16.362  < 2e-16 ***\n",
       "factor(month)6                        5.626e+04  3.081e+03  18.260  < 2e-16 ***\n",
       "factor(type)apartmentBuilding         1.239e+05  3.954e+03  31.335  < 2e-16 ***\n",
       "factor(type)blockOfFlats             -5.345e+04  2.530e+03 -21.125  < 2e-16 ***\n",
       "factor(type)tenement                  6.506e+03  3.824e+03   1.701 0.088892 .  \n",
       "factor(rooms)2                       -3.887e+03  4.532e+03  -0.858 0.391058    \n",
       "factor(rooms)3                       -2.427e+04  5.648e+03  -4.296 1.74e-05 ***\n",
       "factor(rooms)4                       -3.522e+04  6.693e+03  -5.262 1.42e-07 ***\n",
       "factor(rooms)5                       -1.125e+05  8.788e+03 -12.805  < 2e-16 ***\n",
       "factor(rooms)6                       -8.496e+04  1.303e+04  -6.518 7.17e-11 ***\n",
       "factor(ownership)cooperative         -3.112e+04  3.139e+03  -9.914  < 2e-16 ***\n",
       "factor(ownership)udziaÃ\\u0085Â\\u0082 -6.655e+04  1.018e+05  -0.654 0.513097    \n",
       "factor(buildingmaterial)brick        -4.306e+04  2.762e+03 -15.589  < 2e-16 ***\n",
       "factor(buildingmaterial)concreteSlab -1.115e+05  3.015e+03 -36.984  < 2e-16 ***\n",
       "---\n",
       "Signif. codes:  0 '***' 0.001 '**' 0.01 '*' 0.05 '.' 0.1 ' ' 1\n",
       "\n",
       "Residual standard error: 287600 on 106893 degrees of freedom\n",
       "  (3257 observations deleted due to missingness)\n",
       "Multiple R-squared:  0.566,\tAdjusted R-squared:  0.5659 \n",
       "F-statistic:  3486 on 40 and 106893 DF,  p-value: < 2.2e-16\n"
      ]
     },
     "metadata": {},
     "output_type": "display_data"
    }
   ],
   "source": [
    "# Ajustar modelo OLS\n",
    "model <- lm(formula, data = df)\n",
    "summary(model)\n"
   ]
  },
  {
   "cell_type": "markdown",
   "id": "c54762ff-10d0-4b67-8d38-ce0f9a74504c",
   "metadata": {},
   "source": [
    "### Exercise 3b - (Partialling-out)"
   ]
  },
  {
   "cell_type": "code",
   "execution_count": 9,
   "id": "3b0e8f26-077f-4f68-9b69-827a88761365",
   "metadata": {},
   "outputs": [
    {
     "name": "stderr",
     "output_type": "stream",
     "text": [
      "also installing the dependencies 'Formula', 'sandwich', 'dreamerr', 'stringmagic'\n",
      "\n",
      "\n"
     ]
    },
    {
     "name": "stdout",
     "output_type": "stream",
     "text": [
      "package 'Formula' successfully unpacked and MD5 sums checked\n",
      "package 'sandwich' successfully unpacked and MD5 sums checked\n",
      "package 'dreamerr' successfully unpacked and MD5 sums checked\n",
      "package 'stringmagic' successfully unpacked and MD5 sums checked\n",
      "package 'fixest' successfully unpacked and MD5 sums checked\n",
      "\n",
      "The downloaded binary packages are in\n",
      "\tC:\\Users\\Dafne\\AppData\\Local\\Temp\\RtmpsLlQLw\\downloaded_packages\n"
     ]
    }
   ],
   "source": [
    "# Instalación si no tienes fixest\n",
    "install.packages(\"fixest\")\n",
    "\n",
    "library(fixest)"
   ]
  },
  {
   "cell_type": "code",
   "execution_count": 10,
   "id": "4aaa4f5c-396c-4378-96d5-0f09f006ccaf",
   "metadata": {},
   "outputs": [
    {
     "name": "stderr",
     "output_type": "stream",
     "text": [
      "NOTE: 3,257 observations removed because of NA values (Fixed-effects: 3,257).\n",
      "\n"
     ]
    },
    {
     "data": {
      "text/plain": [
       "OLS estimation, Dep. Var.: price\n",
       "Observations: 106,934\n",
       "Fixed-effects: area: 126,  area2: 126,  schooldistance: 1,924,  clinicdistance: 3,741,  postofficedistance: 2,132,  kindergartendistance: 1,689,  restaurantdistance: 1,811,  collegedistance: 4,607,  pharmacydistance: 1,784,  hasparkingspace: 2,  hasbalcony: 2,  haselevator: 2,  hassecurity: 2,  hasstorageroom: 2,  factor(month): 6,  factor(type): 4,  factor(rooms): 6,  factor(ownership): 3,  factor(buildingmaterial): 3\n",
       "Standard-errors: Clustered (area) \n",
       "        Estimate Std. Error   t value Pr(>|t|) \n",
       "end_0 -112579456  888614529 -0.126691  0.89939 \n",
       "---\n",
       "Signif. codes:  0 '***' 0.001 '**' 0.01 '*' 0.05 '.' 0.1 ' ' 1\n",
       "RMSE: 201,420.7     Adj. R2: 0.744164\n",
       "                  Within R2: 1.469e-7"
      ]
     },
     "metadata": {},
     "output_type": "display_data"
    }
   ],
   "source": [
    "# Ajustar con feols (permite partialling-out fácilmente)\n",
    "formula_fe <- as.formula(\n",
    "  paste(\"price ~ end_0 |\",\n",
    "        paste(c(continuous_vars, binary_vars,\n",
    "                paste0(\"factor(\", categorical_vars, \")\")), collapse = \" + \"))\n",
    ")\n",
    "\n",
    "model_partial <- feols(formula_fe, data = df)\n",
    "summary(model_partial)"
   ]
  },
  {
   "cell_type": "markdown",
   "id": "277e4325-d3de-4418-82d2-b5d0a206e071",
   "metadata": {},
   "source": [
    "### Exercise 3c - Price Premium for end_0"
   ]
  },
  {
   "cell_type": "code",
   "execution_count": 11,
   "id": "bf481272-0e0e-43e1-9496-539f332a616d",
   "metadata": {},
   "outputs": [],
   "source": [
    "# Filtrar dataset quitando los que terminan en 0\n",
    "df_no_end0 <- subset(df, end_0 == 0)"
   ]
  },
  {
   "cell_type": "code",
   "execution_count": 12,
   "id": "d3ecc313-e5ee-4700-acff-e0e0721ac0ba",
   "metadata": {},
   "outputs": [
    {
     "data": {
      "text/plain": [
       "\n",
       "Call:\n",
       "lm(formula = formula_no_end0, data = df_no_end0)\n",
       "\n",
       "Residuals:\n",
       "     Min       1Q   Median       3Q      Max \n",
       "-1426717  -167634    -8972   146667  1886830 \n",
       "\n",
       "Coefficients:\n",
       "                                       Estimate Std. Error t value Pr(>|t|)    \n",
       "(Intercept)                           1.268e+05  9.284e+03  13.661  < 2e-16 ***\n",
       "end_1                                -1.586e+04  4.336e+03  -3.658 0.000254 ***\n",
       "end_2                                 8.001e+03  4.119e+03   1.943 0.052057 .  \n",
       "end_3                                 1.845e+04  4.204e+03   4.389 1.14e-05 ***\n",
       "end_4                                 2.551e+00  4.105e+03   0.001 0.999504    \n",
       "end_5                                 1.646e+04  4.127e+03   3.988 6.66e-05 ***\n",
       "end_6                                 2.665e+03  4.040e+03   0.660 0.509493    \n",
       "end_7                                 1.645e+04  4.046e+03   4.066 4.79e-05 ***\n",
       "end_8                                -1.023e+02  3.952e+03  -0.026 0.979351    \n",
       "area                                  1.043e+04  2.931e+02  35.580  < 2e-16 ***\n",
       "area2                                 2.406e+01  1.904e+00  12.637  < 2e-16 ***\n",
       "schooldistance                        3.938e+04  4.142e+03   9.508  < 2e-16 ***\n",
       "clinicdistance                       -4.220e+04  1.457e+03 -28.972  < 2e-16 ***\n",
       "postofficedistance                    1.825e+04  3.557e+03   5.132 2.88e-07 ***\n",
       "kindergartendistance                 -1.646e+04  4.368e+03  -3.768 0.000165 ***\n",
       "restaurantdistance                   -2.212e+05  4.360e+03 -50.724  < 2e-16 ***\n",
       "collegedistance                      -8.911e+03  1.022e+03  -8.719  < 2e-16 ***\n",
       "pharmacydistance                      1.258e+05  4.935e+03  25.493  < 2e-16 ***\n",
       "hasparkingspace                       1.295e+04  2.172e+03   5.961 2.52e-09 ***\n",
       "hasbalcony                            5.197e+03  2.037e+03   2.552 0.010718 *  \n",
       "haselevator                           1.599e+05  2.145e+03  74.562  < 2e-16 ***\n",
       "hassecurity                           4.587e+04  3.033e+03  15.121  < 2e-16 ***\n",
       "hasstorageroom                       -3.303e+04  2.096e+03 -15.759  < 2e-16 ***\n",
       "factor(month)2                        1.846e+04  3.452e+03   5.347 8.98e-08 ***\n",
       "factor(month)3                        3.026e+04  3.404e+03   8.888  < 2e-16 ***\n",
       "factor(month)4                        4.086e+04  3.325e+03  12.290  < 2e-16 ***\n",
       "factor(month)5                        5.179e+04  3.288e+03  15.751  < 2e-16 ***\n",
       "factor(month)6                        5.782e+04  3.245e+03  17.816  < 2e-16 ***\n",
       "factor(type)apartmentBuilding         1.268e+05  4.179e+03  30.342  < 2e-16 ***\n",
       "factor(type)blockOfFlats             -4.950e+04  2.665e+03 -18.574  < 2e-16 ***\n",
       "factor(type)tenement                  6.375e+03  4.055e+03   1.572 0.115910    \n",
       "factor(rooms)2                       -2.020e+03  4.774e+03  -0.423 0.672242    \n",
       "factor(rooms)3                       -2.473e+04  5.944e+03  -4.160 3.18e-05 ***\n",
       "factor(rooms)4                       -3.610e+04  7.056e+03  -5.116 3.12e-07 ***\n",
       "factor(rooms)5                       -1.132e+05  9.320e+03 -12.150  < 2e-16 ***\n",
       "factor(rooms)6                       -1.070e+05  1.392e+04  -7.687 1.52e-14 ***\n",
       "factor(ownership)cooperative         -2.909e+04  3.284e+03  -8.858  < 2e-16 ***\n",
       "factor(ownership)udziaÃ\\u0085Â\\u0082 -6.872e+04  1.009e+05  -0.681 0.495786    \n",
       "factor(buildingmaterial)brick        -4.407e+04  2.915e+03 -15.118  < 2e-16 ***\n",
       "factor(buildingmaterial)concreteSlab -1.116e+05  3.140e+03 -35.522  < 2e-16 ***\n",
       "---\n",
       "Signif. codes:  0 '***' 0.001 '**' 0.01 '*' 0.05 '.' 0.1 ' ' 1\n",
       "\n",
       "Residual standard error: 285200 on 94689 degrees of freedom\n",
       "  (2811 observations deleted due to missingness)\n",
       "Multiple R-squared:  0.5651,\tAdjusted R-squared:  0.565 \n",
       "F-statistic:  3155 on 39 and 94689 DF,  p-value: < 2.2e-16\n"
      ]
     },
     "metadata": {},
     "output_type": "display_data"
    }
   ],
   "source": [
    "# Misma fórmula, pero sin end_0\n",
    "formula_no_end0 <- as.formula(\n",
    "  paste(\"price ~\",\n",
    "        paste(c(paste0(\"end_\", 1:8),\n",
    "                continuous_vars, binary_vars,\n",
    "                paste0(\"factor(\", categorical_vars, \")\")), collapse = \" + \"))\n",
    ")\n",
    "\n",
    "model_no_end0 <- lm(formula_no_end0, data = df_no_end0)\n",
    "summary(model_no_end0)"
   ]
  },
  {
   "cell_type": "code",
   "execution_count": 13,
   "id": "55955015-0bfe-471b-a64f-a41d26f44770",
   "metadata": {},
   "outputs": [],
   "source": [
    "# Predecir precios en toda la muestra usando este modelo\n",
    "df$predicted_price_no_end0 <- predict(model_no_end0, newdata = df)"
   ]
  },
  {
   "cell_type": "code",
   "execution_count": 14,
   "id": "27554c6f-741f-4ab6-9b05-802df430fbd2",
   "metadata": {},
   "outputs": [],
   "source": [
    "# Comparar promedios reales vs predichos para los deptos que terminan en 0\n",
    "df_end0 <- subset(df, end_0 == 1)\n",
    "avg_actual <- mean(df_end0$price, na.rm = TRUE)\n",
    "avg_predicted <- mean(df_end0$predicted_price_no_end0, na.rm = TRUE)\n",
    "difference <- avg_actual - avg_predicted"
   ]
  },
  {
   "cell_type": "code",
   "execution_count": 15,
   "id": "74ec241c-2d79-4e70-97b1-beea7f003f71",
   "metadata": {},
   "outputs": [
    {
     "name": "stdout",
     "output_type": "stream",
     "text": [
      "Average actual price (end_0 = 1): 873616.3 \n",
      "Average predicted price (end_0 = 1): 857401 \n",
      "Difference (real - predicted): 16215.3 \n"
     ]
    }
   ],
   "source": [
    "cat(\"Average actual price (end_0 = 1):\", avg_actual, \"\\n\")\n",
    "cat(\"Average predicted price (end_0 = 1):\", avg_predicted, \"\\n\")\n",
    "cat(\"Difference (real - predicted):\", difference, \"\\n\")"
   ]
  },
  {
   "cell_type": "code",
   "execution_count": 17,
   "id": "38d2eb5c-a327-4f84-b8d4-95db9adf6054",
   "metadata": {},
   "outputs": [
    {
     "name": "stdout",
     "output_type": "stream",
     "text": [
      "✅ Resultados exportados a la carpeta output\n"
     ]
    }
   ],
   "source": [
    "# ================================================\n",
    "# Guardar outputs en la carpeta \"output\"\n",
    "# ================================================\n",
    "\n",
    "# Definir carpeta de salida\n",
    "output_dir <- \"C:/Users/Dafne/Documents/GitHub/High_Dimensional_Linear_Models/R/output\"\n",
    "\n",
    "# Extraer coeficientes como data.frame\n",
    "res_3b1 <- as.data.frame(summary(model)$coefficients)\n",
    "res_3b2 <- as.data.frame(summary(model_partial)$coeftable)\n",
    "res_3c  <- as.data.frame(summary(model_no_end0)$coefficients)\n",
    "\n",
    "# Guardar cada uno en CSV\n",
    "write.csv(res_3b1, file = file.path(output_dir, \"3b1_results.csv\"))\n",
    "write.csv(res_3b2, file = file.path(output_dir, \"3b2_results.csv\"))\n",
    "write.csv(res_3c,  file = file.path(output_dir, \"3c_results.csv\"))\n",
    "\n",
    "# Guardar diferencias calculadas en un archivo aparte\n",
    "premium_results <- data.frame(\n",
    "  avg_actual = avg_actual,\n",
    "  avg_predicted = avg_predicted,\n",
    "  difference = difference\n",
    ")\n",
    "write.csv(premium_results, file = file.path(output_dir, \"3c_price_premium.csv\"), row.names = FALSE)\n",
    "\n",
    "cat(\"✅ Resultados exportados a la carpeta output\\n\")\n"
   ]
  },
  {
   "cell_type": "code",
   "execution_count": 18,
   "id": "2ca4186c-d231-42f6-9a05-f2cc52d5ea79",
   "metadata": {},
   "outputs": [],
   "source": [
    "# ================================================\n",
    "# Guardar outputs en archivo .txt\n",
    "# ================================================\n",
    "\n",
    "# Definir carpeta de salida\n",
    "output_dir <- \"C:/Users/Dafne/Documents/GitHub/High_Dimensional_Linear_Models/R/output\"\n",
    "if (!dir.exists(output_dir)) dir.create(output_dir, recursive = TRUE)\n",
    "\n",
    "# Redirigir todo el output a un archivo\n",
    "sink(file.path(output_dir, \"exercise3_output.txt\"))\n",
    "\n",
    "cat(\"=== Resultados 3b1 - Modelo OLS ===\\n\")\n",
    "print(summary(model))\n",
    "\n",
    "cat(\"\\n\\n=== Resultados 3b2 - Partialling-out (feols) ===\\n\")\n",
    "print(summary(model_partial))\n",
    "\n",
    "cat(\"\\n\\n=== Resultados 3c - Modelo sin end_0 ===\\n\")\n",
    "print(summary(model_no_end0))\n",
    "\n",
    "cat(\"\\n\\n=== Comparación promedio real vs predicho (end_0) ===\\n\")\n",
    "cat(\"Average actual price (end_0 = 1):\", avg_actual, \"\\n\")\n",
    "cat(\"Average predicted price (end_0 = 1):\", avg_predicted, \"\\n\")\n",
    "cat(\"Difference (real - predicted):\", difference, \"\\n\")\n",
    "\n",
    "# Cerrar el sink (muy importante)\n",
    "sink()\n"
   ]
  },
  {
   "cell_type": "code",
   "execution_count": null,
   "id": "4d69d5c1-0da6-4701-863e-99a0988787dc",
   "metadata": {},
   "outputs": [],
   "source": []
  }
 ],
 "metadata": {
  "kernelspec": {
   "display_name": "R [conda env:r_enviroment]",
   "language": "R",
   "name": "conda-env-r_enviroment-r"
  },
  "language_info": {
   "codemirror_mode": "r",
   "file_extension": ".r",
   "mimetype": "text/x-r-source",
   "name": "R",
   "pygments_lexer": "r",
   "version": "4.4.3"
  }
 },
 "nbformat": 4,
 "nbformat_minor": 5
}
